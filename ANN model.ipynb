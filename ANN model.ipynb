{
 "cells": [
  {
   "cell_type": "code",
   "execution_count": 1,
   "id": "6cdd4c02",
   "metadata": {},
   "outputs": [],
   "source": [
    "import numpy as np\n",
    "import pandas as pd\n",
    "import matplotlib.pyplot as plt\n",
    "import seaborn as sns\n",
    "from sklearn.model_selection import train_test_split\n",
    "from sklearn.preprocessing import StandardScaler\n",
    "import tensorflow as tf\n",
    "from tensorflow.keras.models import Sequential\n",
    "from tensorflow.keras.layers import Dense\n",
    "from tensorflow.keras.callbacks import EarlyStopping\n",
    "from sklearn.metrics import mean_squared_error,mean_absolute_error,explained_variance_score, r2_score\n",
    "import warnings\n",
    "warnings.simplefilter(\"ignore\")"
   ]
  },
  {
   "cell_type": "code",
   "execution_count": 4,
   "id": "cc619883",
   "metadata": {},
   "outputs": [],
   "source": [
    "df = pd.read_csv(\"auto_data_cleaned.csv\")"
   ]
  },
  {
   "cell_type": "code",
   "execution_count": 5,
   "id": "4eb09278",
   "metadata": {},
   "outputs": [
    {
     "data": {
      "text/html": [
       "<div>\n",
       "<style scoped>\n",
       "    .dataframe tbody tr th:only-of-type {\n",
       "        vertical-align: middle;\n",
       "    }\n",
       "\n",
       "    .dataframe tbody tr th {\n",
       "        vertical-align: top;\n",
       "    }\n",
       "\n",
       "    .dataframe thead th {\n",
       "        text-align: right;\n",
       "    }\n",
       "</style>\n",
       "<table border=\"1\" class=\"dataframe\">\n",
       "  <thead>\n",
       "    <tr style=\"text-align: right;\">\n",
       "      <th></th>\n",
       "      <th>marka</th>\n",
       "      <th>ban növü</th>\n",
       "      <th>rəng</th>\n",
       "      <th>mühərrik</th>\n",
       "      <th>sürətlər qutusu</th>\n",
       "      <th>yeni</th>\n",
       "      <th>vəziyyəti</th>\n",
       "      <th>yürüş</th>\n",
       "      <th>yaş</th>\n",
       "      <th>qiymət</th>\n",
       "    </tr>\n",
       "  </thead>\n",
       "  <tbody>\n",
       "    <tr>\n",
       "      <th>0</th>\n",
       "      <td>45</td>\n",
       "      <td>9</td>\n",
       "      <td>2</td>\n",
       "      <td>0</td>\n",
       "      <td>0</td>\n",
       "      <td>0</td>\n",
       "      <td>3</td>\n",
       "      <td>0.0</td>\n",
       "      <td>1.0</td>\n",
       "      <td>55000</td>\n",
       "    </tr>\n",
       "    <tr>\n",
       "      <th>1</th>\n",
       "      <td>3</td>\n",
       "      <td>3</td>\n",
       "      <td>7</td>\n",
       "      <td>0</td>\n",
       "      <td>0</td>\n",
       "      <td>1</td>\n",
       "      <td>3</td>\n",
       "      <td>12706.0</td>\n",
       "      <td>19.0</td>\n",
       "      <td>60860</td>\n",
       "    </tr>\n",
       "    <tr>\n",
       "      <th>2</th>\n",
       "      <td>40</td>\n",
       "      <td>9</td>\n",
       "      <td>0</td>\n",
       "      <td>0</td>\n",
       "      <td>0</td>\n",
       "      <td>0</td>\n",
       "      <td>3</td>\n",
       "      <td>0.0</td>\n",
       "      <td>1.0</td>\n",
       "      <td>36499</td>\n",
       "    </tr>\n",
       "    <tr>\n",
       "      <th>3</th>\n",
       "      <td>3</td>\n",
       "      <td>4</td>\n",
       "      <td>7</td>\n",
       "      <td>0</td>\n",
       "      <td>0</td>\n",
       "      <td>1</td>\n",
       "      <td>3</td>\n",
       "      <td>12000.0</td>\n",
       "      <td>2.0</td>\n",
       "      <td>375698</td>\n",
       "    </tr>\n",
       "    <tr>\n",
       "      <th>4</th>\n",
       "      <td>26</td>\n",
       "      <td>9</td>\n",
       "      <td>0</td>\n",
       "      <td>0</td>\n",
       "      <td>0</td>\n",
       "      <td>1</td>\n",
       "      <td>3</td>\n",
       "      <td>158000.0</td>\n",
       "      <td>11.0</td>\n",
       "      <td>36300</td>\n",
       "    </tr>\n",
       "  </tbody>\n",
       "</table>\n",
       "</div>"
      ],
      "text/plain": [
       "   marka  ban növü  rəng  mühərrik  sürətlər qutusu  yeni  vəziyyəti  \\\n",
       "0     45         9     2         0                0     0          3   \n",
       "1      3         3     7         0                0     1          3   \n",
       "2     40         9     0         0                0     0          3   \n",
       "3      3         4     7         0                0     1          3   \n",
       "4     26         9     0         0                0     1          3   \n",
       "\n",
       "      yürüş   yaş  qiymət  \n",
       "0       0.0   1.0   55000  \n",
       "1   12706.0  19.0   60860  \n",
       "2       0.0   1.0   36499  \n",
       "3   12000.0   2.0  375698  \n",
       "4  158000.0  11.0   36300  "
      ]
     },
     "execution_count": 5,
     "metadata": {},
     "output_type": "execute_result"
    }
   ],
   "source": [
    "df.head()"
   ]
  },
  {
   "cell_type": "code",
   "execution_count": 6,
   "id": "0cdd6b0b",
   "metadata": {},
   "outputs": [],
   "source": [
    "X = df.drop(\"qiymət\", axis=1).values\n",
    "y = df[\"qiymət\"]"
   ]
  },
  {
   "cell_type": "markdown",
   "id": "03e1b00b",
   "metadata": {},
   "source": [
    "## Train test splitting"
   ]
  },
  {
   "cell_type": "code",
   "execution_count": 7,
   "id": "649d454a",
   "metadata": {},
   "outputs": [],
   "source": [
    "X_train, X_test, y_train, y_test = train_test_split(X,y, test_size= 0.2, random_state= 42)"
   ]
  },
  {
   "cell_type": "code",
   "execution_count": 8,
   "id": "7017bf48",
   "metadata": {},
   "outputs": [
    {
     "name": "stdout",
     "output_type": "stream",
     "text": [
      "(784, 9)\n",
      "(196, 9)\n",
      "(784,)\n",
      "(196,)\n"
     ]
    }
   ],
   "source": [
    "print(X_train.shape)\n",
    "print(X_test.shape)\n",
    "print(y_train.shape)\n",
    "print(y_test.shape)"
   ]
  },
  {
   "cell_type": "markdown",
   "id": "5e668537",
   "metadata": {},
   "source": [
    "## Scaling the data"
   ]
  },
  {
   "cell_type": "code",
   "execution_count": 9,
   "id": "f099d4e1",
   "metadata": {},
   "outputs": [],
   "source": [
    "sc = StandardScaler()\n",
    "X_train_scaled = sc.fit_transform(X_train)\n",
    "X_test_scaled = sc.transform(X_test)"
   ]
  },
  {
   "cell_type": "markdown",
   "id": "1ecd54de",
   "metadata": {},
   "source": [
    "## Building a model"
   ]
  },
  {
   "cell_type": "code",
   "execution_count": 19,
   "id": "e7d754cb",
   "metadata": {},
   "outputs": [],
   "source": [
    "tf.random.set_seed(1234)\n",
    "model = Sequential(\n",
    "    [Dense(25, 'relu'\n",
    "     ), # first hidden layer\n",
    "     Dense(25, 'relu'\n",
    "     ), \n",
    "     Dense(25, \"relu\"),# second hidden layer\n",
    "     Dense(1)  # output layer\n",
    "    ]\n",
    ")\n",
    "model.compile(loss=\"mse\", optimizer=tf.keras.optimizers.Adam(learning_rate=0.001))"
   ]
  },
  {
   "cell_type": "markdown",
   "id": "86e109ce",
   "metadata": {},
   "source": [
    "## Training the model"
   ]
  },
  {
   "cell_type": "code",
   "execution_count": 20,
   "id": "35c278fb",
   "metadata": {
    "scrolled": true
   },
   "outputs": [
    {
     "name": "stdout",
     "output_type": "stream",
     "text": [
      "Epoch 1/100\n",
      "25/25 [==============================] - 2s 14ms/step - loss: 7429688832.0000 - val_loss: 12282140672.0000\n",
      "Epoch 2/100\n",
      "25/25 [==============================] - 0s 5ms/step - loss: 7429455360.0000 - val_loss: 12281718784.0000\n",
      "Epoch 3/100\n",
      "25/25 [==============================] - 0s 5ms/step - loss: 7428863488.0000 - val_loss: 12280603648.0000\n",
      "Epoch 4/100\n",
      "25/25 [==============================] - 0s 5ms/step - loss: 7427406336.0000 - val_loss: 12277860352.0000\n",
      "Epoch 5/100\n",
      "25/25 [==============================] - 0s 5ms/step - loss: 7424003072.0000 - val_loss: 12271998976.0000\n",
      "Epoch 6/100\n",
      "25/25 [==============================] - 0s 5ms/step - loss: 7417249280.0000 - val_loss: 12260454400.0000\n",
      "Epoch 7/100\n",
      "25/25 [==============================] - 0s 5ms/step - loss: 7404497920.0000 - val_loss: 12240017408.0000\n",
      "Epoch 8/100\n",
      "25/25 [==============================] - 0s 5ms/step - loss: 7383316480.0000 - val_loss: 12207037440.0000\n",
      "Epoch 9/100\n",
      "25/25 [==============================] - 0s 5ms/step - loss: 7349864960.0000 - val_loss: 12157080576.0000\n",
      "Epoch 10/100\n",
      "25/25 [==============================] - 0s 5ms/step - loss: 7300660224.0000 - val_loss: 12084676608.0000\n",
      "Epoch 11/100\n",
      "25/25 [==============================] - 0s 5ms/step - loss: 7229864448.0000 - val_loss: 11982140416.0000\n",
      "Epoch 12/100\n",
      "25/25 [==============================] - 0s 5ms/step - loss: 7134898176.0000 - val_loss: 11846182912.0000\n",
      "Epoch 13/100\n",
      "25/25 [==============================] - 0s 5ms/step - loss: 7008633344.0000 - val_loss: 11671139328.0000\n",
      "Epoch 14/100\n",
      "25/25 [==============================] - 0s 5ms/step - loss: 6848591360.0000 - val_loss: 11454565376.0000\n",
      "Epoch 15/100\n",
      "25/25 [==============================] - 0s 6ms/step - loss: 6656967680.0000 - val_loss: 11192588288.0000\n",
      "Epoch 16/100\n",
      "25/25 [==============================] - 0s 6ms/step - loss: 6433234432.0000 - val_loss: 10883537920.0000\n",
      "Epoch 17/100\n",
      "25/25 [==============================] - 0s 6ms/step - loss: 6176474624.0000 - val_loss: 10528493568.0000\n",
      "Epoch 18/100\n",
      "25/25 [==============================] - 0s 5ms/step - loss: 5883563520.0000 - val_loss: 10152282112.0000\n",
      "Epoch 19/100\n",
      "25/25 [==============================] - 0s 5ms/step - loss: 5577186304.0000 - val_loss: 9730538496.0000\n",
      "Epoch 20/100\n",
      "25/25 [==============================] - 0s 6ms/step - loss: 5252446720.0000 - val_loss: 9289436160.0000\n",
      "Epoch 21/100\n",
      "25/25 [==============================] - 0s 5ms/step - loss: 4936865280.0000 - val_loss: 8850852864.0000\n",
      "Epoch 22/100\n",
      "25/25 [==============================] - 0s 5ms/step - loss: 4630722560.0000 - val_loss: 8460942336.0000\n",
      "Epoch 23/100\n",
      "25/25 [==============================] - 0s 7ms/step - loss: 4363255296.0000 - val_loss: 8050501632.0000\n",
      "Epoch 24/100\n",
      "25/25 [==============================] - 0s 5ms/step - loss: 4119127552.0000 - val_loss: 7699956224.0000\n",
      "Epoch 25/100\n",
      "25/25 [==============================] - 0s 6ms/step - loss: 3916313088.0000 - val_loss: 7401012736.0000\n",
      "Epoch 26/100\n",
      "25/25 [==============================] - 0s 7ms/step - loss: 3752948224.0000 - val_loss: 7143784448.0000\n",
      "Epoch 27/100\n",
      "25/25 [==============================] - 0s 5ms/step - loss: 3630297856.0000 - val_loss: 6920916992.0000\n",
      "Epoch 28/100\n",
      "25/25 [==============================] - 0s 5ms/step - loss: 3524313344.0000 - val_loss: 6769397760.0000\n",
      "Epoch 29/100\n",
      "25/25 [==============================] - 0s 5ms/step - loss: 3449319168.0000 - val_loss: 6648255488.0000\n",
      "Epoch 30/100\n",
      "25/25 [==============================] - 0s 5ms/step - loss: 3388560896.0000 - val_loss: 6556600832.0000\n",
      "Epoch 31/100\n",
      "25/25 [==============================] - 0s 6ms/step - loss: 3339677696.0000 - val_loss: 6467567104.0000\n",
      "Epoch 32/100\n",
      "25/25 [==============================] - 0s 6ms/step - loss: 3296500480.0000 - val_loss: 6380793856.0000\n",
      "Epoch 33/100\n",
      "25/25 [==============================] - 0s 7ms/step - loss: 3278518016.0000 - val_loss: 6295368704.0000\n",
      "Epoch 34/100\n",
      "25/25 [==============================] - 0s 5ms/step - loss: 3233335040.0000 - val_loss: 6287619584.0000\n",
      "Epoch 35/100\n",
      "25/25 [==============================] - 0s 5ms/step - loss: 3209478912.0000 - val_loss: 6258863104.0000\n",
      "Epoch 36/100\n",
      "25/25 [==============================] - 0s 5ms/step - loss: 3185451520.0000 - val_loss: 6222494208.0000\n",
      "Epoch 37/100\n",
      "25/25 [==============================] - 0s 6ms/step - loss: 3163025152.0000 - val_loss: 6190200832.0000\n",
      "Epoch 38/100\n",
      "25/25 [==============================] - 0s 5ms/step - loss: 3144568832.0000 - val_loss: 6171448832.0000\n",
      "Epoch 39/100\n",
      "25/25 [==============================] - 0s 5ms/step - loss: 3128157696.0000 - val_loss: 6143311360.0000\n",
      "Epoch 40/100\n",
      "25/25 [==============================] - 0s 5ms/step - loss: 3113451264.0000 - val_loss: 6141559808.0000\n",
      "Epoch 41/100\n",
      "25/25 [==============================] - 0s 5ms/step - loss: 3098066688.0000 - val_loss: 6120713216.0000\n",
      "Epoch 42/100\n",
      "25/25 [==============================] - 0s 5ms/step - loss: 3083550976.0000 - val_loss: 6107044352.0000\n",
      "Epoch 43/100\n",
      "25/25 [==============================] - 0s 5ms/step - loss: 3072037888.0000 - val_loss: 6091215872.0000\n",
      "Epoch 44/100\n",
      "25/25 [==============================] - 0s 5ms/step - loss: 3061412608.0000 - val_loss: 6081618944.0000\n",
      "Epoch 45/100\n",
      "25/25 [==============================] - 0s 4ms/step - loss: 3052774144.0000 - val_loss: 6073808896.0000\n",
      "Epoch 46/100\n",
      "25/25 [==============================] - 0s 7ms/step - loss: 3042248960.0000 - val_loss: 6071538688.0000\n",
      "Epoch 47/100\n",
      "25/25 [==============================] - 0s 5ms/step - loss: 3038532864.0000 - val_loss: 6071696896.0000\n",
      "Epoch 48/100\n",
      "25/25 [==============================] - 0s 5ms/step - loss: 3026147328.0000 - val_loss: 6054792704.0000\n",
      "Epoch 49/100\n",
      "25/25 [==============================] - 0s 5ms/step - loss: 3021378560.0000 - val_loss: 6043800576.0000\n",
      "Epoch 50/100\n",
      "25/25 [==============================] - 0s 4ms/step - loss: 3014934528.0000 - val_loss: 6035738112.0000\n",
      "Epoch 51/100\n",
      "25/25 [==============================] - 0s 5ms/step - loss: 3009211392.0000 - val_loss: 6046099456.0000\n",
      "Epoch 52/100\n",
      "25/25 [==============================] - 0s 6ms/step - loss: 3003061504.0000 - val_loss: 6032349184.0000\n",
      "Epoch 53/100\n",
      "25/25 [==============================] - 0s 5ms/step - loss: 2996907520.0000 - val_loss: 6035380224.0000\n",
      "Epoch 54/100\n",
      "25/25 [==============================] - 0s 5ms/step - loss: 2993253376.0000 - val_loss: 6026548736.0000\n",
      "Epoch 55/100\n",
      "25/25 [==============================] - 0s 5ms/step - loss: 2988678912.0000 - val_loss: 6035257856.0000\n",
      "Epoch 56/100\n",
      "25/25 [==============================] - 0s 5ms/step - loss: 2984895744.0000 - val_loss: 6028036096.0000\n",
      "Epoch 57/100\n",
      "25/25 [==============================] - 0s 5ms/step - loss: 2981079808.0000 - val_loss: 6021047296.0000\n",
      "Epoch 58/100\n",
      "25/25 [==============================] - 0s 5ms/step - loss: 2977485824.0000 - val_loss: 6017447936.0000\n",
      "Epoch 59/100\n",
      "25/25 [==============================] - 0s 5ms/step - loss: 2975190528.0000 - val_loss: 6022874624.0000\n",
      "Epoch 60/100\n",
      "25/25 [==============================] - 0s 7ms/step - loss: 2971098368.0000 - val_loss: 6019289088.0000\n",
      "Epoch 61/100\n",
      "25/25 [==============================] - 0s 5ms/step - loss: 2969311488.0000 - val_loss: 6017565696.0000\n",
      "Epoch 62/100\n",
      "25/25 [==============================] - 0s 7ms/step - loss: 2966120448.0000 - val_loss: 6026457600.0000\n"
     ]
    },
    {
     "data": {
      "text/plain": [
       "<keras.src.callbacks.History at 0x18f87382e90>"
      ]
     },
     "execution_count": 20,
     "metadata": {},
     "output_type": "execute_result"
    }
   ],
   "source": [
    "model.fit(x=X_train_scaled, y=y_train, epochs=100, batch_size=32,validation_data=(X_test_scaled,y_test),\n",
    "        callbacks=EarlyStopping(monitor='val_loss',patience=4))"
   ]
  },
  {
   "cell_type": "code",
   "execution_count": 21,
   "id": "f810d142",
   "metadata": {},
   "outputs": [
    {
     "name": "stdout",
     "output_type": "stream",
     "text": [
      "7/7 [==============================] - 0s 3ms/step\n",
      "MAE:  37667.86332360093\n",
      "MSE:  6026458065.911349\n",
      "RMSE:  77630.2651413181\n",
      "Variance Regression Score:  0.31563529902438514\n",
      "RSE:  0.3137330370717428\n"
     ]
    }
   ],
   "source": [
    "predictions = model.predict(X_test_scaled)\n",
    "\n",
    "print('MAE: ',mean_absolute_error(y_test,predictions))\n",
    "print('MSE: ',mean_squared_error(y_test,predictions))\n",
    "print('RMSE: ',np.sqrt(mean_squared_error(y_test,predictions)))\n",
    "print('Variance Regression Score: ',explained_variance_score(y_test,predictions))\n",
    "print('RSE: ', r2_score(y_test, predictions) )"
   ]
  },
  {
   "cell_type": "markdown",
   "id": "4d511e66",
   "metadata": {},
   "source": [
    "This shows our model predict %31 of the target correctly"
   ]
  },
  {
   "cell_type": "code",
   "execution_count": null,
   "id": "6bb1a9f0",
   "metadata": {},
   "outputs": [],
   "source": []
  }
 ],
 "metadata": {
  "kernelspec": {
   "display_name": "Python 3 (ipykernel)",
   "language": "python",
   "name": "python3"
  },
  "language_info": {
   "codemirror_mode": {
    "name": "ipython",
    "version": 3
   },
   "file_extension": ".py",
   "mimetype": "text/x-python",
   "name": "python",
   "nbconvert_exporter": "python",
   "pygments_lexer": "ipython3",
   "version": "3.11.5"
  }
 },
 "nbformat": 4,
 "nbformat_minor": 5
}
